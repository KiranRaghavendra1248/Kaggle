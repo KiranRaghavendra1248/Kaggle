{
  "nbformat": 4,
  "nbformat_minor": 0,
  "metadata": {
    "colab": {
      "name": "Fashion MNIST-1.ipynb",
      "provenance": [],
      "collapsed_sections": [],
      "authorship_tag": "ABX9TyNxJObDG5TyLoh4QL8m9l0C",
      "include_colab_link": true
    },
    "kernelspec": {
      "name": "python3",
      "display_name": "Python 3"
    }
  },
  "cells": [
    {
      "cell_type": "markdown",
      "metadata": {
        "id": "view-in-github",
        "colab_type": "text"
      },
      "source": [
        "<a href=\"https://colab.research.google.com/github/KiranRaghavendra1248/ML-7/blob/master/Fashion_MNIST_1.ipynb\" target=\"_parent\"><img src=\"https://colab.research.google.com/assets/colab-badge.svg\" alt=\"Open In Colab\"/></a>"
      ]
    },
    {
      "cell_type": "code",
      "metadata": {
        "id": "Xy2nEg9YlpUP",
        "colab_type": "code",
        "colab": {}
      },
      "source": [
        "# Fashion MNIST using artificial neural nets"
      ],
      "execution_count": null,
      "outputs": []
    },
    {
      "cell_type": "code",
      "metadata": {
        "id": "y_brZBsiRh5g",
        "colab_type": "code",
        "colab": {}
      },
      "source": [
        "import tensorflow as tf\n",
        "from tensorflow import keras"
      ],
      "execution_count": 1,
      "outputs": []
    },
    {
      "cell_type": "code",
      "metadata": {
        "id": "198K-govVsP2",
        "colab_type": "code",
        "colab": {}
      },
      "source": [
        "import numpy as np\n",
        "import matplotlib.pyplot as plt\n",
        "import pandas as pd"
      ],
      "execution_count": 2,
      "outputs": []
    },
    {
      "cell_type": "code",
      "metadata": {
        "id": "_qBbINMEV67w",
        "colab_type": "code",
        "colab": {}
      },
      "source": [
        "mnist=keras.datasets.fashion_mnist"
      ],
      "execution_count": 3,
      "outputs": []
    },
    {
      "cell_type": "code",
      "metadata": {
        "id": "Rci6eHaMWK7x",
        "colab_type": "code",
        "colab": {
          "base_uri": "https://localhost:8080/",
          "height": 34
        },
        "outputId": "77012c9b-4c5d-48bb-a574-ed6421f6999d"
      },
      "source": [
        "type(mnist)"
      ],
      "execution_count": 4,
      "outputs": [
        {
          "output_type": "execute_result",
          "data": {
            "text/plain": [
              "module"
            ]
          },
          "metadata": {
            "tags": []
          },
          "execution_count": 4
        }
      ]
    },
    {
      "cell_type": "code",
      "metadata": {
        "id": "gc8XM8DIWObV",
        "colab_type": "code",
        "colab": {
          "base_uri": "https://localhost:8080/",
          "height": 151
        },
        "outputId": "0a189bec-a4c0-486f-9263-a72f84d2fe0a"
      },
      "source": [
        "(X_train,y_train),(X_test,y_test)=mnist.load_data()"
      ],
      "execution_count": 8,
      "outputs": [
        {
          "output_type": "stream",
          "text": [
            "Downloading data from https://storage.googleapis.com/tensorflow/tf-keras-datasets/train-labels-idx1-ubyte.gz\n",
            "32768/29515 [=================================] - 0s 0us/step\n",
            "Downloading data from https://storage.googleapis.com/tensorflow/tf-keras-datasets/train-images-idx3-ubyte.gz\n",
            "26427392/26421880 [==============================] - 0s 0us/step\n",
            "Downloading data from https://storage.googleapis.com/tensorflow/tf-keras-datasets/t10k-labels-idx1-ubyte.gz\n",
            "8192/5148 [===============================================] - 0s 0us/step\n",
            "Downloading data from https://storage.googleapis.com/tensorflow/tf-keras-datasets/t10k-images-idx3-ubyte.gz\n",
            "4423680/4422102 [==============================] - 0s 0us/step\n"
          ],
          "name": "stdout"
        }
      ]
    },
    {
      "cell_type": "code",
      "metadata": {
        "id": "-FTevLMuWcil",
        "colab_type": "code",
        "colab": {
          "base_uri": "https://localhost:8080/",
          "height": 34
        },
        "outputId": "128e1317-a98b-423c-8398-e9d096ea253b"
      },
      "source": [
        "print(X_train.shape , y_train.shape)"
      ],
      "execution_count": 10,
      "outputs": [
        {
          "output_type": "stream",
          "text": [
            "(60000, 28, 28) (60000,)\n"
          ],
          "name": "stdout"
        }
      ]
    },
    {
      "cell_type": "code",
      "metadata": {
        "id": "MdUVQtArW2ju",
        "colab_type": "code",
        "colab": {
          "base_uri": "https://localhost:8080/",
          "height": 34
        },
        "outputId": "14a28718-46e0-42dc-c76e-252ae7052059"
      },
      "source": [
        "print(X_test.shape , y_test.shape)"
      ],
      "execution_count": 11,
      "outputs": [
        {
          "output_type": "stream",
          "text": [
            "(10000, 28, 28) (10000,)\n"
          ],
          "name": "stdout"
        }
      ]
    },
    {
      "cell_type": "code",
      "metadata": {
        "id": "tzrO1gu7XARF",
        "colab_type": "code",
        "colab": {}
      },
      "source": [
        "# 28*28 grayscale images"
      ],
      "execution_count": 12,
      "outputs": []
    },
    {
      "cell_type": "code",
      "metadata": {
        "id": "oPoKHRUtXMS3",
        "colab_type": "code",
        "colab": {}
      },
      "source": [
        "class_names=['T-shirt','Trouser','Pullover','Dress','Coat','Sandal','Shirt','Sneaker','Bag','Ankle boot']"
      ],
      "execution_count": 13,
      "outputs": []
    },
    {
      "cell_type": "code",
      "metadata": {
        "id": "zxQJepHRYLmY",
        "colab_type": "code",
        "colab": {
          "base_uri": "https://localhost:8080/",
          "height": 282
        },
        "outputId": "c2ebb749-3371-4f9d-b64a-9d6c2a290530"
      },
      "source": [
        "plt.figure()\n",
        "plt.imshow(X_train[3])\n",
        "plt.colorbar()\n",
        "print(class_names[y_train[3]])"
      ],
      "execution_count": 19,
      "outputs": [
        {
          "output_type": "stream",
          "text": [
            "Dress\n"
          ],
          "name": "stdout"
        },
        {
          "output_type": "display_data",
          "data": {
            "image/png": "[encoded data removed]",
            "text/plain": [
              "<Figure size 432x288 with 2 Axes>"
            ]
          },
          "metadata": {
            "tags": [],
            "needs_background": "light"
          }
        }
      ]
    },
    {
      "cell_type": "code",
      "metadata": {
        "id": "HYom7qixYl1Y",
        "colab_type": "code",
        "colab": {}
      },
      "source": [
        "#Scaling down"
      ],
      "execution_count": 20,
      "outputs": []
    },
    {
      "cell_type": "code",
      "metadata": {
        "id": "lTQkLVjcY4yK",
        "colab_type": "code",
        "colab": {}
      },
      "source": [
        "X_train=X_train/255.0\n",
        "X_test=X_test/255.0"
      ],
      "execution_count": 21,
      "outputs": []
    },
    {
      "cell_type": "code",
      "metadata": {
        "id": "NLKRP-akZBbk",
        "colab_type": "code",
        "colab": {
          "base_uri": "https://localhost:8080/",
          "height": 286
        },
        "outputId": "2efdb480-c2f8-484f-dc67-45a860a34baa"
      },
      "source": [
        "plt.figure()\n",
        "plt.imshow(X_train[3])\n",
        "plt.colorbar()\n",
        "print(class_names[y_train[3]])"
      ],
      "execution_count": 22,
      "outputs": [
        {
          "output_type": "stream",
          "text": [
            "Dress\n"
          ],
          "name": "stdout"
        },
        {
          "output_type": "display_data",
          "data": {
            "image/png": "[encoded data removed]",
            "text/plain": [
              "<Figure size 432x288 with 2 Axes>"
            ]
          },
          "metadata": {
            "tags": [],
            "needs_background": "light"
          }
        }
      ]
    },
    {
      "cell_type": "code",
      "metadata": {
        "id": "RHEsTmzKZEsf",
        "colab_type": "code",
        "colab": {}
      },
      "source": [
        "from keras.layers import Dense,Flatten,Dropout\n",
        "from keras import Sequential"
      ],
      "execution_count": 34,
      "outputs": []
    },
    {
      "cell_type": "code",
      "metadata": {
        "id": "0TACzsJeZ08d",
        "colab_type": "code",
        "colab": {}
      },
      "source": [
        "model=Sequential()\n",
        "model.add(Flatten(input_shape=(28,28)))\n",
        "model.add(Dense(units=128,activation='relu'))\n",
        "model.add(Dense(10,activation='softmax'))"
      ],
      "execution_count": 24,
      "outputs": []
    },
    {
      "cell_type": "code",
      "metadata": {
        "id": "nWF15bODdu2H",
        "colab_type": "code",
        "colab": {
          "base_uri": "https://localhost:8080/",
          "height": 252
        },
        "outputId": "4f57ab01-61bb-4c0f-a340-a32fe4517609"
      },
      "source": [
        "model.summary()"
      ],
      "execution_count": 25,
      "outputs": [
        {
          "output_type": "stream",
          "text": [
            "Model: \"sequential_1\"\n",
            "_________________________________________________________________\n",
            "Layer (type)                 Output Shape              Param #   \n",
            "=================================================================\n",
            "flatten_1 (Flatten)          (None, 784)               0         \n",
            "_________________________________________________________________\n",
            "dense_1 (Dense)              (None, 128)               100480    \n",
            "_________________________________________________________________\n",
            "dense_2 (Dense)              (None, 10)                1290      \n",
            "=================================================================\n",
            "Total params: 101,770\n",
            "Trainable params: 101,770\n",
            "Non-trainable params: 0\n",
            "_________________________________________________________________\n"
          ],
          "name": "stdout"
        }
      ]
    },
    {
      "cell_type": "code",
      "metadata": {
        "id": "wRlDxn6jeFAH",
        "colab_type": "code",
        "colab": {}
      },
      "source": [
        "# Loss types:\n",
        "# 1. Binary cross entropy: Classification with 2 classes\n",
        "# 2  Categorical cross entropy: Classification with n classes- labels are sparse vectorslabels are integers 0-(n-1)\n",
        "# 3. Sparse categorical cross entropy : Classification with n classes- labels are integers 0-(n-1)"
      ],
      "execution_count": 27,
      "outputs": []
    },
    {
      "cell_type": "code",
      "metadata": {
        "id": "VOVcprcndxyG",
        "colab_type": "code",
        "colab": {}
      },
      "source": [
        "# Loss : Sparse categorical cross entropy\n",
        "# Optimizer: Adam\n",
        "# Metric: Accuracy"
      ],
      "execution_count": 28,
      "outputs": []
    },
    {
      "cell_type": "code",
      "metadata": {
        "id": "RpPgos7vjZD0",
        "colab_type": "code",
        "colab": {}
      },
      "source": [
        "model.compile(optimizer='adam',loss='sparse_categorical_crossentropy',metrics=['accuracy'])"
      ],
      "execution_count": 30,
      "outputs": []
    },
    {
      "cell_type": "code",
      "metadata": {
        "id": "hgTsFXZGkkNo",
        "colab_type": "code",
        "colab": {
          "base_uri": "https://localhost:8080/",
          "height": 706
        },
        "outputId": "19e9c653-a238-44cb-a8cf-c691177223ec"
      },
      "source": [
        "model.fit(X_train,y_train,epochs=20)"
      ],
      "execution_count": 31,
      "outputs": [
        {
          "output_type": "stream",
          "text": [
            "Epoch 1/20\n",
            "60000/60000 [==============================] - 8s 136us/step - loss: 0.4991 - accuracy: 0.8238\n",
            "Epoch 2/20\n",
            "60000/60000 [==============================] - 6s 96us/step - loss: 0.3750 - accuracy: 0.8656\n",
            "Epoch 3/20\n",
            "60000/60000 [==============================] - 6s 94us/step - loss: 0.3374 - accuracy: 0.8762\n",
            "Epoch 4/20\n",
            "60000/60000 [==============================] - 6s 95us/step - loss: 0.3131 - accuracy: 0.8844\n",
            "Epoch 5/20\n",
            "60000/60000 [==============================] - 6s 93us/step - loss: 0.2959 - accuracy: 0.8909\n",
            "Epoch 6/20\n",
            "60000/60000 [==============================] - 6s 94us/step - loss: 0.2819 - accuracy: 0.8954\n",
            "Epoch 7/20\n",
            "60000/60000 [==============================] - 6s 96us/step - loss: 0.2686 - accuracy: 0.8992\n",
            "Epoch 8/20\n",
            "60000/60000 [==============================] - 6s 93us/step - loss: 0.2571 - accuracy: 0.9040\n",
            "Epoch 9/20\n",
            "60000/60000 [==============================] - 6s 97us/step - loss: 0.2479 - accuracy: 0.9071\n",
            "Epoch 10/20\n",
            "60000/60000 [==============================] - 6s 96us/step - loss: 0.2388 - accuracy: 0.9106\n",
            "Epoch 11/20\n",
            "60000/60000 [==============================] - 6s 97us/step - loss: 0.2308 - accuracy: 0.9139\n",
            "Epoch 12/20\n",
            "60000/60000 [==============================] - 6s 94us/step - loss: 0.2223 - accuracy: 0.9165\n",
            "Epoch 13/20\n",
            "60000/60000 [==============================] - 6s 93us/step - loss: 0.2165 - accuracy: 0.9198\n",
            "Epoch 14/20\n",
            "60000/60000 [==============================] - 6s 94us/step - loss: 0.2083 - accuracy: 0.9220\n",
            "Epoch 15/20\n",
            "60000/60000 [==============================] - 6s 93us/step - loss: 0.2045 - accuracy: 0.9226\n",
            "Epoch 16/20\n",
            "60000/60000 [==============================] - 6s 96us/step - loss: 0.1977 - accuracy: 0.9260\n",
            "Epoch 17/20\n",
            "60000/60000 [==============================] - 6s 97us/step - loss: 0.1923 - accuracy: 0.9276\n",
            "Epoch 18/20\n",
            "60000/60000 [==============================] - 6s 95us/step - loss: 0.1848 - accuracy: 0.9309\n",
            "Epoch 19/20\n",
            "60000/60000 [==============================] - 6s 92us/step - loss: 0.1828 - accuracy: 0.9316\n",
            "Epoch 20/20\n",
            "60000/60000 [==============================] - 6s 92us/step - loss: 0.1785 - accuracy: 0.9326\n"
          ],
          "name": "stdout"
        },
        {
          "output_type": "execute_result",
          "data": {
            "text/plain": [
              "<keras.callbacks.callbacks.History at 0x7ff5139d5d68>"
            ]
          },
          "metadata": {
            "tags": []
          },
          "execution_count": 31
        }
      ]
    },
    {
      "cell_type": "code",
      "metadata": {
        "id": "HRmqIDZAlSzi",
        "colab_type": "code",
        "colab": {
          "base_uri": "https://localhost:8080/",
          "height": 34
        },
        "outputId": "794c2f70-ca53-48a8-d294-9d5f84a013ba"
      },
      "source": [
        "from sklearn.metrics import accuracy_score\n",
        "y_pred=model.predict_classes(X_test)\n",
        "score=accuracy_score(y_test,y_pred)\n",
        "print(score)\n"
      ],
      "execution_count": 32,
      "outputs": [
        {
          "output_type": "stream",
          "text": [
            "0.8876\n"
          ],
          "name": "stdout"
        }
      ]
    },
    {
      "cell_type": "code",
      "metadata": {
        "id": "Q6t6h-9fmPq8",
        "colab_type": "code",
        "colab": {}
      },
      "source": [
        "# Train accuracy 93% and Test accuracy 89%\n",
        "# Overfitting"
      ],
      "execution_count": 33,
      "outputs": []
    },
    {
      "cell_type": "code",
      "metadata": {
        "id": "9fqcqSr1ma1W",
        "colab_type": "code",
        "colab": {}
      },
      "source": [
        "model=Sequential()\n",
        "model.add(Flatten(input_shape=(28,28)))\n",
        "model.add(Dense(units=128,activation='relu'))\n",
        "model.add(Dropout(0.2))\n",
        "model.add(Dense(10,activation='softmax'))"
      ],
      "execution_count": 35,
      "outputs": []
    },
    {
      "cell_type": "code",
      "metadata": {
        "id": "7_G_JzywmpRC",
        "colab_type": "code",
        "colab": {
          "base_uri": "https://localhost:8080/",
          "height": 286
        },
        "outputId": "e21d5a84-8ac1-4c6c-890f-f5a031345dfb"
      },
      "source": [
        "model.summary()"
      ],
      "execution_count": 36,
      "outputs": [
        {
          "output_type": "stream",
          "text": [
            "Model: \"sequential_2\"\n",
            "_________________________________________________________________\n",
            "Layer (type)                 Output Shape              Param #   \n",
            "=================================================================\n",
            "flatten_2 (Flatten)          (None, 784)               0         \n",
            "_________________________________________________________________\n",
            "dense_3 (Dense)              (None, 128)               100480    \n",
            "_________________________________________________________________\n",
            "dropout_1 (Dropout)          (None, 128)               0         \n",
            "_________________________________________________________________\n",
            "dense_4 (Dense)              (None, 10)                1290      \n",
            "=================================================================\n",
            "Total params: 101,770\n",
            "Trainable params: 101,770\n",
            "Non-trainable params: 0\n",
            "_________________________________________________________________\n"
          ],
          "name": "stdout"
        }
      ]
    },
    {
      "cell_type": "code",
      "metadata": {
        "id": "H1l9pKolmupx",
        "colab_type": "code",
        "colab": {}
      },
      "source": [
        "model.compile(optimizer='adam',loss='sparse_categorical_crossentropy',metrics=['accuracy'])"
      ],
      "execution_count": 37,
      "outputs": []
    },
    {
      "cell_type": "code",
      "metadata": {
        "id": "XgejdVocmzHB",
        "colab_type": "code",
        "colab": {
          "base_uri": "https://localhost:8080/",
          "height": 706
        },
        "outputId": "62467293-1af0-480b-e005-fb4130b0f631"
      },
      "source": [
        "model.fit(X_train,y_train,epochs=20)"
      ],
      "execution_count": 38,
      "outputs": [
        {
          "output_type": "stream",
          "text": [
            "Epoch 1/20\n",
            "60000/60000 [==============================] - 6s 100us/step - loss: 0.5403 - accuracy: 0.8086\n",
            "Epoch 2/20\n",
            "60000/60000 [==============================] - 6s 99us/step - loss: 0.4049 - accuracy: 0.8534\n",
            "Epoch 3/20\n",
            "60000/60000 [==============================] - 6s 100us/step - loss: 0.3741 - accuracy: 0.8640\n",
            "Epoch 4/20\n",
            "60000/60000 [==============================] - 6s 99us/step - loss: 0.3501 - accuracy: 0.8709\n",
            "Epoch 5/20\n",
            "60000/60000 [==============================] - 6s 97us/step - loss: 0.3386 - accuracy: 0.8762\n",
            "Epoch 6/20\n",
            "60000/60000 [==============================] - 6s 98us/step - loss: 0.3239 - accuracy: 0.8807\n",
            "Epoch 7/20\n",
            "60000/60000 [==============================] - 6s 97us/step - loss: 0.3151 - accuracy: 0.8850\n",
            "Epoch 8/20\n",
            "60000/60000 [==============================] - 6s 97us/step - loss: 0.3036 - accuracy: 0.8873\n",
            "Epoch 9/20\n",
            "60000/60000 [==============================] - 6s 100us/step - loss: 0.2967 - accuracy: 0.8910\n",
            "Epoch 10/20\n",
            "60000/60000 [==============================] - 6s 98us/step - loss: 0.2884 - accuracy: 0.8930\n",
            "Epoch 11/20\n",
            "60000/60000 [==============================] - 6s 97us/step - loss: 0.2849 - accuracy: 0.8933\n",
            "Epoch 12/20\n",
            "60000/60000 [==============================] - 6s 97us/step - loss: 0.2768 - accuracy: 0.8958\n",
            "Epoch 13/20\n",
            "60000/60000 [==============================] - 6s 100us/step - loss: 0.2706 - accuracy: 0.8981\n",
            "Epoch 14/20\n",
            "60000/60000 [==============================] - 6s 97us/step - loss: 0.2678 - accuracy: 0.8990\n",
            "Epoch 15/20\n",
            "60000/60000 [==============================] - 6s 100us/step - loss: 0.2621 - accuracy: 0.9014\n",
            "Epoch 16/20\n",
            "60000/60000 [==============================] - 6s 100us/step - loss: 0.2574 - accuracy: 0.9031\n",
            "Epoch 17/20\n",
            "60000/60000 [==============================] - 7s 115us/step - loss: 0.2542 - accuracy: 0.9046\n",
            "Epoch 18/20\n",
            "60000/60000 [==============================] - 7s 113us/step - loss: 0.2487 - accuracy: 0.9064\n",
            "Epoch 19/20\n",
            "60000/60000 [==============================] - 6s 102us/step - loss: 0.2455 - accuracy: 0.9076\n",
            "Epoch 20/20\n",
            "60000/60000 [==============================] - 6s 100us/step - loss: 0.2429 - accuracy: 0.9091\n"
          ],
          "name": "stdout"
        },
        {
          "output_type": "execute_result",
          "data": {
            "text/plain": [
              "<keras.callbacks.callbacks.History at 0x7ff50aea0828>"
            ]
          },
          "metadata": {
            "tags": []
          },
          "execution_count": 38
        }
      ]
    },
    {
      "cell_type": "code",
      "metadata": {
        "id": "t6Ml_7Uam27a",
        "colab_type": "code",
        "colab": {
          "base_uri": "https://localhost:8080/",
          "height": 34
        },
        "outputId": "be4a353b-a615-4774-fd40-c63be148f591"
      },
      "source": [
        "y_pred=model.predict_classes(X_test)\n",
        "score=accuracy_score(y_test,y_pred)\n",
        "print(score)"
      ],
      "execution_count": 40,
      "outputs": [
        {
          "output_type": "stream",
          "text": [
            "0.886\n"
          ],
          "name": "stdout"
        }
      ]
    },
    {
      "cell_type": "code",
      "metadata": {
        "id": "sXbkueRanBD5",
        "colab_type": "code",
        "colab": {}
      },
      "source": [
        "# Adding dropout regularization seems to reduce vale of test and train acccuracy both. Hopefully CNN does better."
      ],
      "execution_count": 41,
      "outputs": []
    },
    {
      "cell_type": "code",
      "metadata": {
        "id": "SaO5WAJ5oDX-",
        "colab_type": "code",
        "colab": {}
      },
      "source": [
        ""
      ],
      "execution_count": null,
      "outputs": []
    }
  ]
}